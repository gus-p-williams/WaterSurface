{
 "cells": [
  {
   "cell_type": "markdown",
   "metadata": {},
   "source": [
    "# 📘 GVF Backwater Profile for a Trapezoidal Channel Upstream of a Weir\n",
    "\n",
    "This notebook calculates the **smooth gradually varied flow (GVF)** profile starting from a weir for **trapezoidal channels**.\n",
    "\n",
    "It also **exports results** into a downloadable **CSV file**.\n",
    "\n",
    "---\n",
    "\n",
    "## 📚 Governing Equations\n",
    "\n",
    "**Cross-sectional Area:**\n",
    "$$\n",
    "A = b y + z y^2\n",
    "$$\n",
    "\n",
    "**Wetted Perimeter:**\n",
    "$$\n",
    "P = b + 2 y \\sqrt{1+z^2}\n",
    "$$\n",
    "\n",
    "**Top Width:**\n",
    "$$\n",
    "T = b + 2 z y\n",
    "$$\n",
    "\n",
    "**Hydraulic Radius:**\n",
    "$$\n",
    "R = \\frac{A}{P}\n",
    "$$\n",
    "\n",
    "**Critical Depth:** (solved from energy minimization)\n",
    "$$\n",
    "Q^2 T - g A^3 = 0\n",
    "$$\n",
    "\n",
    "**Normal Depth (Manning's Equation):**\n",
    "$$\n",
    "Q = \\frac{1}{n} A R^{2/3} \\sqrt{S_0}\n",
    "$$\n",
    "\n",
    "**Gradually Varied Flow (GVF) Equation:**\n",
    "$$\n",
    "\\frac{dy}{dx} = \\frac{S_0 - S_f}{1 - Fr^2}\n",
    "$$\n",
    "where:\n",
    "- $$ S_f = \\frac{n^2 Q^2}{A^2 R^{4/3}} $$\n",
    "- $$ Fr = \\frac{Q}{A \\sqrt{g \\frac{A}{T}}} $$\n",
    "\n",
    "---\n",
    "\n",
    "**Integration Approach:**\n",
    "- Start slightly above critical depth.\n",
    "- Integrate **upstream**.\n",
    "- Step forward with small \\( dx \\).\n",
    "- Stop after reaching desired reach length \\( L \\)."
   ]
  },
  {
   "cell_type": "code",
   "execution_count": 1,
   "metadata": {},
   "outputs": [],
   "source": [
    "import numpy as np\n",
    "import matplotlib.pyplot as plt\n",
    "import pandas as pd\n",
    "from scipy.optimize import fsolve\n",
    "import ipywidgets as widgets\n",
    "from IPython.display import FileLink, display\n",
    "import os\n",
    "\n",
    "g = 9.81\n",
    "os.makedirs('outputs', exist_ok=True)"
   ]
  },
  {
   "cell_type": "code",
   "execution_count": 2,
   "metadata": {},
   "outputs": [],
   "source": [
    "# Functions\n",
    "def area(b, z, y):\n",
    "    return b*y + z*y**2\n",
    "\n",
    "def perimeter(b, z, y):\n",
    "    return b + 2*y*(1 + z**2)**0.5\n",
    "\n",
    "def top_width(b, z, y):\n",
    "    return b + 2*z*y\n",
    "\n",
    "def hydraulic_radius(b, z, y):\n",
    "    A = area(b, z, y)\n",
    "    P = perimeter(b, z, y)\n",
    "    return A / P\n",
    "\n",
    "def compute_critical_depth(Q, b, z):\n",
    "    def func(y):\n",
    "        A = area(b, z, y)\n",
    "        T = top_width(b, z, y)\n",
    "        return Q**2 * T - g * A**3\n",
    "    return fsolve(func, 1.0)[0]\n",
    "\n",
    "def Sf(Q, b, z, y, n):\n",
    "    A = area(b, z, y)\n",
    "    R = hydraulic_radius(b, z, y)\n",
    "    return (n**2 * Q**2) / (A**2 * R**(4/3))\n",
    "\n",
    "def Fr(Q, b, z, y):\n",
    "    A = area(b, z, y)\n",
    "    T = top_width(b, z, y)\n",
    "    return Q / (A * np.sqrt(g * A / T))"
   ]
  },
  {
   "cell_type": "code",
   "execution_count": 3,
   "metadata": {},
   "outputs": [],
   "source": [
    "def compute_gvf_profile(Q, b, z, n, S0, dx, L):\n",
    "    y_crit = compute_critical_depth(Q, b, z)\n",
    "    y_start = y_crit * 1.01\n",
    "\n",
    "    x_vals = [0]\n",
    "    y_vals = [y_start]\n",
    "    x = 0\n",
    "    y = y_start\n",
    "\n",
    "    while x < L:\n",
    "        fr = Fr(Q, b, z, y)\n",
    "        denom = 1 - fr**2\n",
    "        if abs(denom) < 1e-6:\n",
    "            break\n",
    "        dydx = (S0 - Sf(Q, b, z, y, n)) / denom\n",
    "        y += dydx * dx\n",
    "        x += dx\n",
    "        if y <= 0 or np.isnan(y):\n",
    "            break\n",
    "        x_vals.append(x)\n",
    "        y_vals.append(y)\n",
    "\n",
    "    df = pd.DataFrame({\n",
    "        'Distance (m)': x_vals,\n",
    "        'Depth (m)': y_vals\n",
    "    })\n",
    "    csv_path = 'outputs/gvf_profile.csv'\n",
    "    df.to_csv(csv_path, index=False)\n",
    "    return x_vals, y_vals, y_crit, csv_path"
   ]
  },
  {
   "cell_type": "code",
   "execution_count": 4,
   "metadata": {},
   "outputs": [],
   "source": [
    "def plot_gvf(Q, b, z, n, S0, dx, L):\n",
    "    x_vals, y_vals, y_crit, csv_path = compute_gvf_profile(Q, b, z, n, S0, dx, L)\n",
    "\n",
    "    plt.figure(figsize=(10, 5))\n",
    "    plt.plot(x_vals, y_vals, label=\"Backwater Profile\")\n",
    "    plt.axhline(y_crit, color='r', linestyle='--', label=\"Critical Depth\")\n",
    "    plt.title(f\"GVF Backwater Profile (Trapezoidal Channel)\\nQ={Q} m³/s, b={b} m, z={z}\")\n",
    "    plt.xlabel(\"Distance upstream (m)\")\n",
    "    plt.ylabel(\"Water Depth (m)\")\n",
    "    plt.grid(True)\n",
    "    plt.legend()\n",
    "    plt.tight_layout()\n",
    "    plt.show()\n",
    "\n",
    "    display(FileLink(csv_path, result_html_prefix=\"📄 Download results: \"))\n",
    "\n",
    "    print(f\"Critical Depth: {y_crit:.3f} m\")\n",
    "    print(f\"Water Depth at Upstream End: {y_vals[-1]:.3f} m\")"
   ]
  },
  {
   "cell_type": "code",
   "execution_count": 5,
   "metadata": {},
   "outputs": [
    {
     "data": {
      "application/vnd.jupyter.widget-view+json": {
       "model_id": "b8b7720aceff4efda4c88ad4076482c5",
       "version_major": 2,
       "version_minor": 0
      },
      "text/plain": [
       "interactive(children=(FloatSlider(value=10.0, description='Discharge Q', max=30.0, min=1.0, step=1.0), FloatSl…"
      ]
     },
     "metadata": {},
     "output_type": "display_data"
    },
    {
     "data": {
      "text/plain": [
       "<function __main__.plot_gvf(Q, b, z, n, S0, dx, L)>"
      ]
     },
     "execution_count": 5,
     "metadata": {},
     "output_type": "execute_result"
    }
   ],
   "source": [
    "widgets.interact(\n",
    "    plot_gvf,\n",
    "    Q=widgets.FloatSlider(value=10.0, min=1, max=30, step=1, description='Discharge Q'),\n",
    "    b=widgets.FloatSlider(value=3.0, min=1, max=10, step=0.5, description='Bottom Width b'),\n",
    "    z=widgets.FloatSlider(value=0.0, min=0, max=3, step=0.1, description='Side Slope z'),\n",
    "    n=widgets.FloatSlider(value=0.03, min=0.01, max=0.1, step=0.005, description=\"Manning's n\"),\n",
    "    S0=widgets.FloatLogSlider(value=0.001, base=10, min=-4, max=-1, step=0.1, description='Slope S₀'),\n",
    "    dx=widgets.FloatSlider(value=0.25, min=0.05, max=2.0, step=0.05, description='dx'),\n",
    "    L=widgets.FloatSlider(value=100.0, min=10, max=300, step=10, description='Reach Length')\n",
    ")"
   ]
  }
 ],
 "metadata": {
  "kernelspec": {
   "display_name": "Python 3 (ipykernel)",
   "language": "python",
   "name": "python3"
  },
  "language_info": {
   "codemirror_mode": {
    "name": "ipython",
    "version": 3
   },
   "file_extension": ".py",
   "mimetype": "text/x-python",
   "name": "python",
   "nbconvert_exporter": "python",
   "pygments_lexer": "ipython3",
   "version": "3.12.9"
  }
 },
 "nbformat": 4,
 "nbformat_minor": 4
}
