{
 "cells": [
  {
   "cell_type": "markdown",
   "metadata": {},
   "source": [
    "# Professional Weir Flow Analysis Notebook\n",
    "\n",
    "This notebook offers detailed analysis of weir flows with:\n",
    "- Multiple profile visualization\n",
    "- Specific energy and hydraulic jump analysis\n",
    "- Exportable plots and downloadable tabular results"
   ]
  },
  {
   "cell_type": "markdown",
   "metadata": {},
   "source": [
    "## 📘 Notebook Outline\n",
    "\n",
    "This notebook is designed to model open channel flow upstream of a weir, offering:\n",
    "\n",
    "- **Critical depth** calculation\n",
    "- **Normal depth** (for reference)\n",
    "- **Backwater profile computation** via gradually varied flow (GVF) equation\n",
    "- **Specific energy** at the starting depth\n",
    "- **Hydraulic jump analysis** using sequent depth relations\n",
    "- **Visualization** of multiple flow scenarios\n",
    "- **Data exports** for further analysis or reporting"
   ]
  },
  {
   "cell_type": "markdown",
   "metadata": {},
   "source": [
    "## 🧠 Approach & Equations\n",
    "\n",
    "**1. Critical Depth Calculation:**  \n",
    "$$\n",
    "y_c = \\left( \\frac{Q^2}{g b^2} \\right)^{1/3}\n",
    "$$\n",
    "\n",
    "**2. Normal Depth (Rectangular Channel, Manning’s Equation):**  \n",
    "$$\n",
    "Q = \\frac{1}{n} b y^{5/3} \\sqrt{S_0}\n",
    "$$\n",
    "\n",
    "**3. Gradually Varied Flow Equation (Backwater Profile):**  \n",
    "$$\n",
    "\\frac{dy}{dx} = \\frac{S_0 - S_f}{1 - Fr^2}\n",
    "$$\n",
    "where:  \n",
    "$$\n",
    "S_f = \\frac{n^2 Q^2}{A^2 R^{4/3}}, \\quad Fr = \\frac{Q}{b y \\sqrt{g y}}\n",
    "$$\n",
    "\n",
    "**4. Specific Energy:**  \n",
    "$$\n",
    "E = y + \\frac{v^2}{2g}, \\quad v = \\frac{Q}{b y}\n",
    "$$\n",
    "\n",
    "**5. Sequent Depth for Hydraulic Jump (Rectangular Channel):**  \n",
    "$$\n",
    "y_2 = \\frac{1}{2} y_1 \\left( -1 + \\sqrt{1 + 8 Fr^2} \\right)\n",
    "$$\n",
    "Valid only if $Fr > 1$ (i.e., supercritical flow)."
   ]
  },
  {
   "cell_type": "code",
   "execution_count": 1,
   "metadata": {},
   "outputs": [],
   "source": [
    "import numpy as np\n",
    "import pandas as pd\n",
    "import matplotlib.pyplot as plt\n",
    "from scipy.optimize import fsolve\n",
    "import ipywidgets as widgets\n",
    "from IPython.display import display, FileLink\n",
    "import os\n",
    "\n",
    "g = 9.81\n",
    "output_dir = \"outputs\"\n",
    "os.makedirs(output_dir, exist_ok=True)"
   ]
  },
  {
   "cell_type": "code",
   "execution_count": 2,
   "metadata": {},
   "outputs": [],
   "source": [
    "def compute_critical_depth(Q, b):\n",
    "    return (Q**2 / (g * b**2))**(1/3)\n",
    "\n",
    "def compute_normal_depth(Q, b, n, S0):\n",
    "    func = lambda y: (1/n) * b * y**(5/3) * np.sqrt(S0) - Q\n",
    "    y_guess = (Q**2 / (g * b**2))**(1/3) * 1.5\n",
    "    return fsolve(func, y_guess)[0]\n",
    "\n",
    "def Sf(y, Q, b, n):\n",
    "    A = b * y\n",
    "    R = y\n",
    "    return (n**2 * Q**2) / (A**2 * R**(4/3))\n",
    "\n",
    "def Fr(Q, b, y):\n",
    "    return Q / (b * y * np.sqrt(g * y))\n",
    "\n",
    "def specific_energy(y, Q, b):\n",
    "    v = Q / (b * y)\n",
    "    return y + v**2 / (2*g)\n",
    "\n",
    "def sequent_depth(y1, Q, b):\n",
    "    Fr1 = Fr(Q, b, y1)\n",
    "    if Fr1 <= 1:\n",
    "        return None\n",
    "    return 0.5 * y1 * (-1 + np.sqrt(1 + 8*Fr1**2))"
   ]
  },
  {
   "cell_type": "code",
   "execution_count": 3,
   "metadata": {},
   "outputs": [],
   "source": [
    "def analyze_and_plot(Q_list, b, n, S0, L, dx, weir_type, weir_height, C_b, C_d):\n",
    "    summary_rows = []\n",
    "    fig, ax = plt.subplots(figsize=(12, 6))\n",
    "    \n",
    "    for Q in Q_list:\n",
    "        y_crit = compute_critical_depth(Q, b)\n",
    "        y_normal = compute_normal_depth(Q, b, n, S0)\n",
    "        y_start = y_crit * 1.05\n",
    "\n",
    "        x_vals = [0]\n",
    "        y_vals = [y_start]\n",
    "        x, y = 0, y_start\n",
    "\n",
    "        while x < L:\n",
    "            fr = Fr(Q, b, y)\n",
    "            denom = 1 - fr**2\n",
    "            if abs(denom) < 1e-6:\n",
    "                break\n",
    "            dy_dx = (S0 - Sf(y, Q, b, n)) / denom\n",
    "            y += dy_dx * dx\n",
    "            x += dx\n",
    "            x_vals.append(x)\n",
    "            y_vals.append(y)\n",
    "\n",
    "        label = f\"Q={Q} m³/s\"\n",
    "        ax.plot(x_vals, y_vals, label=label)\n",
    "        E = specific_energy(y_start, Q, b)\n",
    "        y2 = sequent_depth(y_start, Q, b)\n",
    "\n",
    "        summary_rows.append({\n",
    "            'Q (m³/s)': Q,\n",
    "            'Critical Depth (m)': y_crit,\n",
    "            'Normal Depth (m)': y_normal,\n",
    "            'Specific Energy (m)': E,\n",
    "            'Sequent Depth (m)': y2 if y2 else 'No jump'\n",
    "        })\n",
    "\n",
    "    ax.axhline(y=compute_critical_depth(Q_list[0], b), color='r', linestyle='--', label='Critical Depth')\n",
    "    ax.set_title('Backwater Profiles')\n",
    "    ax.set_xlabel('Distance upstream (m)')\n",
    "    ax.set_ylabel('Water Depth (m)')\n",
    "    ax.legend()\n",
    "    ax.grid(True)\n",
    "    plt.tight_layout()\n",
    "\n",
    "    img_path = os.path.join(output_dir, 'backwater_profiles.png')\n",
    "    plt.savefig(img_path)\n",
    "    plt.show()\n",
    "\n",
    "    df = pd.DataFrame(summary_rows)\n",
    "    csv_path = os.path.join(output_dir, 'weir_flow_summary.csv')\n",
    "    df.to_csv(csv_path, index=False)\n",
    "\n",
    "    display(df)\n",
    "    display(FileLink(csv_path, result_html_prefix=\"📄 Download results: \"))\n",
    "    display(FileLink(img_path, result_html_prefix=\"🖼️ Download plot: \"))"
   ]
  },
  {
   "cell_type": "code",
   "execution_count": 4,
   "metadata": {},
   "outputs": [
    {
     "name": "stderr",
     "output_type": "stream",
     "text": [
      "C:\\Users\\williagp\\AppData\\Local\\Temp\\ipykernel_32156\\2533557961.py:15: RuntimeWarning: invalid value encountered in sqrt\n",
      "  return Q / (b * y * np.sqrt(g * y))\n",
      "C:\\Users\\williagp\\AppData\\Local\\Temp\\ipykernel_32156\\2533557961.py:12: RuntimeWarning: invalid value encountered in scalar power\n",
      "  return (n**2 * Q**2) / (A**2 * R**(4/3))\n"
     ]
    },
    {
     "data": {
      "image/png": "[encoded data removed]",
      "text/plain": [
       "<Figure size 1200x600 with 1 Axes>"
      ]
     },
     "metadata": {},
     "output_type": "display_data"
    },
    {
     "data": {
      "text/html": [
       "<div>\n",
       "<style scoped>\n",
       "    .dataframe tbody tr th:only-of-type {\n",
       "        vertical-align: middle;\n",
       "    }\n",
       "\n",
       "    .dataframe tbody tr th {\n",
       "        vertical-align: top;\n",
       "    }\n",
       "\n",
       "    .dataframe thead th {\n",
       "        text-align: right;\n",
       "    }\n",
       "</style>\n",
       "<table border=\"1\" class=\"dataframe\">\n",
       "  <thead>\n",
       "    <tr style=\"text-align: right;\">\n",
       "      <th></th>\n",
       "      <th>Q (m³/s)</th>\n",
       "      <th>Critical Depth (m)</th>\n",
       "      <th>Normal Depth (m)</th>\n",
       "      <th>Specific Energy (m)</th>\n",
       "      <th>Sequent Depth (m)</th>\n",
       "    </tr>\n",
       "  </thead>\n",
       "  <tbody>\n",
       "    <tr>\n",
       "      <th>0</th>\n",
       "      <td>5</td>\n",
       "      <td>0.656663</td>\n",
       "      <td>1.316382</td>\n",
       "      <td>0.987303</td>\n",
       "      <td>No jump</td>\n",
       "    </tr>\n",
       "    <tr>\n",
       "      <th>1</th>\n",
       "      <td>10</td>\n",
       "      <td>1.042388</td>\n",
       "      <td>1.995262</td>\n",
       "      <td>1.567246</td>\n",
       "      <td>No jump</td>\n",
       "    </tr>\n",
       "    <tr>\n",
       "      <th>2</th>\n",
       "      <td>15</td>\n",
       "      <td>1.365915</td>\n",
       "      <td>2.544806</td>\n",
       "      <td>2.053673</td>\n",
       "      <td>No jump</td>\n",
       "    </tr>\n",
       "    <tr>\n",
       "      <th>3</th>\n",
       "      <td>20</td>\n",
       "      <td>1.654688</td>\n",
       "      <td>3.024252</td>\n",
       "      <td>2.487848</td>\n",
       "      <td>No jump</td>\n",
       "    </tr>\n",
       "  </tbody>\n",
       "</table>\n",
       "</div>"
      ],
      "text/plain": [
       "   Q (m³/s)  Critical Depth (m)  Normal Depth (m)  Specific Energy (m)  \\\n",
       "0         5            0.656663          1.316382             0.987303   \n",
       "1        10            1.042388          1.995262             1.567246   \n",
       "2        15            1.365915          2.544806             2.053673   \n",
       "3        20            1.654688          3.024252             2.487848   \n",
       "\n",
       "  Sequent Depth (m)  \n",
       "0           No jump  \n",
       "1           No jump  \n",
       "2           No jump  \n",
       "3           No jump  "
      ]
     },
     "metadata": {},
     "output_type": "display_data"
    },
    {
     "data": {
      "text/html": [
       "📄 Download results: <a href='outputs\\weir_flow_summary.csv' target='_blank'>outputs\\weir_flow_summary.csv</a><br>"
      ],
      "text/plain": [
       "C:\\Users\\williagp\\PycharmProjects\\WaterSurface\\outputs\\weir_flow_summary.csv"
      ]
     },
     "metadata": {},
     "output_type": "display_data"
    },
    {
     "data": {
      "text/html": [
       "🖼️ Download plot: <a href='outputs\\backwater_profiles.png' target='_blank'>outputs\\backwater_profiles.png</a><br>"
      ],
      "text/plain": [
       "C:\\Users\\williagp\\PycharmProjects\\WaterSurface\\outputs\\backwater_profiles.png"
      ]
     },
     "metadata": {},
     "output_type": "display_data"
    }
   ],
   "source": [
    "# Inputs\n",
    "Q_list = [5, 10, 15, 20]\n",
    "b = 3.0\n",
    "n = 0.03\n",
    "S0 = 0.001\n",
    "L = 100.0\n",
    "dx = 1.0\n",
    "weir_type = 'broad-crested'\n",
    "weir_height = 1.0\n",
    "C_b = 1.7\n",
    "C_d = 0.6\n",
    "\n",
    "# Run analysis\n",
    "analyze_and_plot(Q_list, b, n, S0, L, dx, weir_type, weir_height, C_b, C_d)"
   ]
  },
  {
   "cell_type": "code",
   "execution_count": 5,
   "metadata": {},
   "outputs": [
    {
     "data": {
      "application/vnd.jupyter.widget-view+json": {
       "model_id": "ef3b472d58794c78bcd9e71e0b4b3966",
       "version_major": 2,
       "version_minor": 0
      },
      "text/plain": [
       "VBox(children=(SelectMultiple(description='Flow Rates Q (m³/s)', index=(1,), options=(5, 10, 15, 20, 25), valu…"
      ]
     },
     "metadata": {},
     "output_type": "display_data"
    },
    {
     "data": {
      "application/vnd.jupyter.widget-view+json": {
       "model_id": "b7ea6bcaaf9f48e8872ab0e6371d4280",
       "version_major": 2,
       "version_minor": 0
      },
      "text/plain": [
       "Output()"
      ]
     },
     "metadata": {},
     "output_type": "display_data"
    }
   ],
   "source": [
    "flow_selector = widgets.SelectMultiple(\n",
    "    options=[5, 10, 15, 20, 25],\n",
    "    value=[10],\n",
    "    description='Flow Rates Q (m³/s)',\n",
    ")\n",
    "\n",
    "ui = widgets.VBox([\n",
    "    flow_selector,\n",
    "    widgets.FloatSlider(value=3.0, min=1.0, max=10.0, step=0.5, description='Channel Width b (m)'),\n",
    "    widgets.FloatSlider(value=0.03, min=0.01, max=0.1, step=0.005, description=\"Manning's n\"),\n",
    "    widgets.FloatLogSlider(value=0.001, base=10, min=-4, max=-1, step=0.1, description='Slope S₀'),\n",
    "    widgets.FloatSlider(value=100.0, min=10, max=300, step=10, description='Length L (m)'),\n",
    "    widgets.FloatSlider(value=1.0, min=0.1, max=5.0, step=0.1, description='dx Step (m)'),\n",
    "    widgets.Dropdown(options=['broad-crested', 'sharp-crested'], value='broad-crested', description='Weir Type'),\n",
    "    widgets.FloatSlider(value=1.0, min=0.5, max=3.0, step=0.1, description='Weir Height (m)'),\n",
    "    widgets.FloatSlider(value=1.7, min=1.0, max=2.5, step=0.1, description='C_b (broad)'),\n",
    "    widgets.FloatSlider(value=0.6, min=0.4, max=0.9, step=0.05, description='C_d (sharp)'),\n",
    "])\n",
    "\n",
    "out = widgets.interactive_output(\n",
    "    analyze_and_plot,\n",
    "    {\n",
    "        'Q_list': flow_selector,\n",
    "        'b': ui.children[1],\n",
    "        'n': ui.children[2],\n",
    "        'S0': ui.children[3],\n",
    "        'L': ui.children[4],\n",
    "        'dx': ui.children[5],\n",
    "        'weir_type': ui.children[6],\n",
    "        'weir_height': ui.children[7],\n",
    "        'C_b': ui.children[8],\n",
    "        'C_d': ui.children[9]\n",
    "    }\n",
    ")\n",
    "\n",
    "display(ui, out)"
   ]
  }
 ],
 "metadata": {
  "kernelspec": {
   "display_name": "Python 3 (ipykernel)",
   "language": "python",
   "name": "python3"
  },
  "language_info": {
   "codemirror_mode": {
    "name": "ipython",
    "version": 3
   },
   "file_extension": ".py",
   "mimetype": "text/x-python",
   "name": "python",
   "nbconvert_exporter": "python",
   "pygments_lexer": "ipython3",
   "version": "3.12.9"
  }
 },
 "nbformat": 4,
 "nbformat_minor": 4
}
