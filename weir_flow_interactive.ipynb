{
 "cells": [
  {
   "cell_type": "markdown",
   "metadata": {},
   "source": [
    "# Interactive Weir Flow Profile with Flow Classification\n",
    "\n",
    "This notebook calculates the free water surface profile upstream of a weir and provides critical depth analysis with interactive widgets.\n",
    "You can adjust flow parameters, select weir type, and visualize changes in real-time."
   ]
  },
  {
   "cell_type": "code",
   "execution_count": 1,
   "metadata": {
    "jupyter": {
     "is_executing": true
    }
   },
   "outputs": [],
   "source": [
    "import numpy as np\n",
    "import matplotlib.pyplot as plt\n",
    "from scipy.optimize import fsolve\n",
    "import ipywidgets as widgets\n",
    "from IPython.display import display, clear_output\n",
    "\n",
    "g = 9.81  # gravitational acceleration (m/s^2)"
   ]
  },
  {
   "cell_type": "code",
   "execution_count": 2,
   "metadata": {},
   "outputs": [],
   "source": [
    "def compute_critical_depth(Q, b):\n",
    "    return (Q**2 / (g * b**2))**(1/3)\n",
    "\n",
    "def compute_normal_depth(Q, b, n, S0):\n",
    "    func = lambda y: (1/n) * b * y**(5/3) * np.sqrt(S0) - Q\n",
    "    y_guess = (Q**2 / (g * b**2))**(1/3) * 1.5\n",
    "    return fsolve(func, y_guess)[0]\n",
    "\n",
    "def Sf(y, Q, b, n):\n",
    "    A = b * y\n",
    "    R = y\n",
    "    return (n**2 * Q**2) / (A**2 * R**(4/3))\n",
    "\n",
    "def Fr(Q, b, y):\n",
    "    return Q / (b * y * np.sqrt(g * y))\n",
    "\n",
    "def flow_classification(y, y_crit):\n",
    "    if y > y_crit:\n",
    "        return 'Subcritical'\n",
    "    elif y < y_crit:\n",
    "        return 'Supercritical'\n",
    "    else:\n",
    "        return 'Critical'"
   ]
  },
  {
   "cell_type": "code",
   "execution_count": 3,
   "metadata": {},
   "outputs": [],
   "source": [
    "def plot_profile(Q, b, n, S0, L, dx, weir_type, weir_height, C_b, C_d):\n",
    "    y_crit = compute_critical_depth(Q, b)\n",
    "    y_normal = compute_normal_depth(Q, b, n, S0)\n",
    "    y_start = y_crit * 1.05\n",
    "\n",
    "    x_vals = [0]\n",
    "    y_vals = [y_start]\n",
    "    x, y = 0, y_start\n",
    "\n",
    "    while x < L:\n",
    "        fr = Fr(Q, b, y)\n",
    "        denom = 1 - fr**2\n",
    "        if abs(denom) < 1e-6:\n",
    "            break\n",
    "        dy_dx = (S0 - Sf(y, Q, b, n)) / denom\n",
    "        y += dy_dx * dx\n",
    "        x += dx\n",
    "        x_vals.append(x)\n",
    "        y_vals.append(y)\n",
    "\n",
    "    if weir_type == 'broad-crested':\n",
    "        Q_weir = C_b * b * y_crit**1.5\n",
    "    else:\n",
    "        Q_weir = (2/3) * C_d * b * np.sqrt(2 * g) * y_crit**1.5\n",
    "\n",
    "    plt.figure(figsize=(10, 5))\n",
    "    plt.plot(x_vals, y_vals, label='Water Surface')\n",
    "    plt.axhline(y_crit, color='r', linestyle='--', label='Critical Depth')\n",
    "    plt.axhline(y_normal, color='g', linestyle=':', label='Normal Depth')\n",
    "    plt.title(f'Flow Profile ({weir_type})')\n",
    "    plt.xlabel('Distance (m)')\n",
    "    plt.ylabel('Depth (m)')\n",
    "    plt.legend()\n",
    "    plt.grid(True)\n",
    "    plt.tight_layout()\n",
    "    plt.show()\n",
    "\n",
    "    print(f\"Critical Depth: {y_crit:.3f} m\")\n",
    "    print(f\"Normal Depth: {y_normal:.3f} m\")\n",
    "    print(f\"Flow Type at Start: {flow_classification(y_start, y_crit)}\")\n",
    "    print(f\"Estimated Weir Discharge: {Q_weir:.3f} m³/s\")"
   ]
  },
  {
   "cell_type": "code",
   "execution_count": 4,
   "metadata": {},
   "outputs": [
    {
     "data": {
      "application/vnd.jupyter.widget-view+json": {
       "model_id": "560a1f4b2e47476380ea00d8e9a40a41",
       "version_major": 2,
       "version_minor": 0
      },
      "text/plain": [
       "interactive(children=(FloatSlider(value=10.0, description='Discharge Q (m³/s)', max=30.0, min=1.0, step=1.0), …"
      ]
     },
     "metadata": {},
     "output_type": "display_data"
    }
   ],
   "source": [
    "interact_ui = widgets.interactive(\n",
    "    plot_profile,\n",
    "    Q=widgets.FloatSlider(value=10, min=1, max=30, step=1, description='Discharge Q (m³/s)'),\n",
    "    b=widgets.FloatSlider(value=3.0, min=1, max=10, step=0.5, description='Channel Width (m)'),\n",
    "    n=widgets.FloatSlider(value=0.03, min=0.01, max=0.1, step=0.005, description=\"Manning's n\"),\n",
    "    S0=widgets.FloatLogSlider(value=0.001, base=10, min=-4, max=-1, step=0.1, description='Slope S₀'),\n",
    "    L=widgets.FloatSlider(value=100.0, min=10, max=300, step=10, description='Length (m)'),\n",
    "    dx=widgets.FloatSlider(value=1.0, min=0.1, max=5.0, step=0.1, description='dx step (m)'),\n",
    "    weir_type=widgets.Dropdown(options=['broad-crested', 'sharp-crested'], value='broad-crested', description='Weir Type'),\n",
    "    weir_height=widgets.FloatSlider(value=1.0, min=0.5, max=3.0, step=0.1, description='Weir Height (m)'),\n",
    "    C_b=widgets.FloatSlider(value=1.7, min=1.0, max=2.5, step=0.1, description='C_b (broad)'),\n",
    "    C_d=widgets.FloatSlider(value=0.6, min=0.4, max=0.9, step=0.05, description='C_d (sharp)')\n",
    ")\n",
    "\n",
    "display(interact_ui)"
   ]
  }
 ],
 "metadata": {
  "kernelspec": {
   "display_name": "Python 3 (ipykernel)",
   "language": "python",
   "name": "python3"
  },
  "language_info": {
   "codemirror_mode": {
    "name": "ipython",
    "version": 3
   },
   "file_extension": ".py",
   "mimetype": "text/x-python",
   "name": "python",
   "nbconvert_exporter": "python",
   "pygments_lexer": "ipython3",
   "version": "3.12.9"
  }
 },
 "nbformat": 4,
 "nbformat_minor": 4
}
