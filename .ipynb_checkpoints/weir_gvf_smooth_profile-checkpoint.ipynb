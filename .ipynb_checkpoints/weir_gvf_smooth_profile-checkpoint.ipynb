{
 "cells": [
  {
   "cell_type": "markdown",
   "metadata": {},
   "source": [
    "# Smooth Backwater Profile Upstream of a Weir\n",
    "\n",
    "This notebook computes a **smooth gradually varied flow (GVF)** profile upstream of a weir.\n",
    "It uses **backward integration from the normal depth toward the critical depth** to avoid instability near critical flow.\n",
    "\n",
    "## \ud83d\udd0d Approach\n",
    "- Start at a known **normal depth** far upstream\n",
    "- Integrate **backward** toward the weir using the GVF equation\n",
    "- Stop when reaching **critical depth** at the weir\n",
    "\n",
    "## \ud83d\udcd8 Governing Equations\n",
    "\n",
    "**1. Critical Depth:**\n",
    "$$\n",
    "y_c = \\left( \\frac{Q^2}{g b^2} \\right)^{1/3}\n",
    "$$\n",
    "\n",
    "**2. Normal Depth:** (Numerical solution from Manning's Equation)\n",
    "$$\n",
    "Q = \\frac{1}{n} b y^{5/3} \\sqrt{S_0}\n",
    "$$\n",
    "\n",
    "**3. Gradually Varied Flow Equation:**\n",
    "$$\n",
    "\\frac{dy}{dx} = \\frac{S_0 - S_f}{1 - Fr^2}, \\quad S_f = \\frac{n^2 Q^2}{A^2 R^{4/3}}, \\quad Fr = \\frac{Q}{b y \\sqrt{g y}}\n",
    "$$\n"
   ]
  },
  {
   "cell_type": "code",
   "execution_count": null,
   "metadata": {},
   "outputs": [],
   "source": [
    "import numpy as np\n",
    "import matplotlib.pyplot as plt\n",
    "from scipy.optimize import fsolve\n",
    "import ipywidgets as widgets\n",
    "from IPython.display import display\n",
    "\n",
    "g = 9.81"
   ]
  },
  {
   "cell_type": "code",
   "execution_count": null,
   "metadata": {},
   "outputs": [],
   "source": [
    "def compute_critical_depth(Q, b):\n",
    "    return (Q**2 / (g * b**2))**(1/3)\n",
    "\n",
    "def compute_normal_depth(Q, b, n, S0):\n",
    "    def manning_eq(y):\n",
    "        if y <= 0:\n",
    "            return 1e6\n",
    "        A = b * y\n",
    "        R = y\n",
    "        return (1/n) * A * R**(2/3) * np.sqrt(S0) - Q\n",
    "    y_crit = compute_critical_depth(Q, b)\n",
    "    y_guess = y_crit * 1.5\n",
    "    return fsolve(manning_eq, y_guess)[0]\n",
    "\n",
    "def Sf(y, Q, b, n):\n",
    "    A = b * y\n",
    "    R = y\n",
    "    return (n**2 * Q**2) / (A**2 * R**(4/3))\n",
    "\n",
    "def Fr(Q, b, y):\n",
    "    return Q / (b * y * np.sqrt(g * y))\n",
    "\n",
    "def compute_gvf_backwater(Q, b, n, S0, y_end, y_stop, dx):\n",
    "    x_vals = [0]\n",
    "    y_vals = [y_end]\n",
    "    x = 0\n",
    "    y = y_end\n",
    "\n",
    "    while y > y_stop and x > -1000:\n",
    "        fr = Fr(Q, b, y)\n",
    "        denom = 1 - fr**2\n",
    "        if abs(denom) < 1e-6:\n",
    "            break\n",
    "        dydx = (S0 - Sf(y, Q, b, n)) / denom\n",
    "        y -= dydx * dx\n",
    "        x -= dx\n",
    "        if y <= 0 or np.isnan(y):\n",
    "            break\n",
    "        x_vals.append(x)\n",
    "        y_vals.append(y)\n",
    "\n",
    "    return x_vals[::-1], y_vals[::-1]"
   ]
  },
  {
   "cell_type": "code",
   "execution_count": null,
   "metadata": {},
   "outputs": [],
   "source": [
    "def plot_smooth_backwater(Q, b, n, S0, dx, L):\n",
    "    y_crit = compute_critical_depth(Q, b)\n",
    "    y_normal = compute_normal_depth(Q, b, n, S0)\n",
    "    x_vals, y_vals = compute_gvf_backwater(Q, b, n, S0, y_end=y_normal, y_stop=y_crit, dx=dx)\n",
    "\n",
    "    plt.figure(figsize=(10, 5))\n",
    "    plt.plot(x_vals, y_vals, label=\"Backwater Curve (M1)\")\n",
    "    plt.axhline(y_crit, color='r', linestyle='--', label=\"Critical Depth\")\n",
    "    plt.axhline(y_normal, color='g', linestyle=':', label=\"Normal Depth\")\n",
    "    plt.title(f\"Smooth Backwater Curve Upstream of a Weir\\n(Q = {Q} m\u00b3/s, b = {b} m)\")\n",
    "    plt.xlabel(\"Distance upstream from weir (m)\")\n",
    "    plt.ylabel(\"Water Depth (m)\")\n",
    "    plt.grid(True)\n",
    "    plt.legend()\n",
    "    plt.tight_layout()\n",
    "    plt.show()\n",
    "\n",
    "    print(f\"Critical Depth: {y_crit:.3f} m\")\n",
    "    print(f\"Normal Depth: {y_normal:.3f} m\")\n",
    "    print(f\"Backwater reach length: {abs(x_vals[0]):.2f} m\")"
   ]
  },
  {
   "cell_type": "code",
   "execution_count": null,
   "metadata": {},
   "outputs": [],
   "source": [
    "widgets.interact(\n",
    "    plot_smooth_backwater,\n",
    "    Q=widgets.FloatSlider(value=10.0, min=1, max=30, step=1, description='Discharge Q'),\n",
    "    b=widgets.FloatSlider(value=3.0, min=1, max=10, step=0.5, description='Width b'),\n",
    "    n=widgets.FloatSlider(value=0.03, min=0.01, max=0.1, step=0.005, description=\"Manning's n\"),\n",
    "    S0=widgets.FloatLogSlider(value=0.001, base=10, min=-4, max=-1, step=0.1, description='Slope S\u2080'),\n",
    "    dx=widgets.FloatSlider(value=0.25, min=0.05, max=2.0, step=0.05, description='dx'),\n",
    "    L=widgets.FloatSlider(value=100.0, min=10, max=300, step=10, description='Reach Length')\n",
    ")"
   ]
  }
 ],
 "metadata": {
  "kernelspec": {
   "display_name": "Python 3",
   "language": "python",
   "name": "python3"
  },
  "language_info": {
   "name": "python",
   "version": ""
  }
 },
 "nbformat": 4,
 "nbformat_minor": 2
}