{
 "cells": [
  {
   "cell_type": "markdown",
   "metadata": {},
   "source": [
    "# Corrected Backwater Profile Starting at a Weir (M1 Curve)\n",
    "\n",
    "This notebook calculates the **subcritical backwater profile (M1 curve)** starting from a weir.\n",
    "\n",
    "## 📌 Physical Setup\n",
    "- Flow goes over the weir at **critical depth**.\n",
    "- The **water surface rises** upstream toward normal depth.\n",
    "- Flow is **subcritical** upstream.\n",
    "\n",
    "## 🧠 Governing Equations\n",
    "**1. Critical Depth:**\n",
    "$$\n",
    "y_c = \\left( \\frac{Q^2}{g b^2} \\right)^{1/3}\n",
    "$$\n",
    "**2. Gradually Varied Flow (GVF) Equation:**\n",
    "$$\n",
    "\\frac{dy}{dx} = \\frac{S_0 - S_f}{1 - Fr^2}\n",
    "$$\n",
    "Where:\n",
    "$$\n",
    "S_f = \\frac{n^2 Q^2}{A^2 R^{4/3}}, \\quad Fr = \\frac{Q}{b y \\sqrt{g y}}\n",
    "$$\n",
    "\n",
    "The integration starts **just above** critical depth to avoid instability and continues upstream."
   ]
  },
  {
   "cell_type": "code",
   "execution_count": 1,
   "metadata": {},
   "outputs": [],
   "source": [
    "import numpy as np\n",
    "import matplotlib.pyplot as plt\n",
    "from scipy.optimize import fsolve\n",
    "import ipywidgets as widgets\n",
    "from IPython.display import display\n",
    "\n",
    "g = 9.81"
   ]
  },
  {
   "cell_type": "code",
   "execution_count": 5,
   "metadata": {},
   "outputs": [],
   "source": [
    "def compute_critical_depth(Q, b):\n",
    "    return (Q**2 / (g * b**2))**(1/3)\n",
    "\n",
    "def Sf(y, Q, b, n):\n",
    "    A = b * y\n",
    "    R = y\n",
    "    return (n**2 * Q**2) / (A**2 * R**(4/3))\n",
    "\n",
    "def Fr(Q, b, y):\n",
    "    return Q / (b * y * np.sqrt(g * y))\n",
    "\n",
    "def compute_backwater_from_weir(Q, b, n, S0, dx, L):\n",
    "    y_crit = compute_critical_depth(Q, b)\n",
    "    y_start = y_crit * 1.01  # Start slightly above critical depth\n",
    "\n",
    "    x_vals = [0]\n",
    "    y_vals = [y_start]\n",
    "    x = 0\n",
    "    y = y_start\n",
    "\n",
    "    while x < L:\n",
    "        fr = Fr(Q, b, y)\n",
    "        denom = 1 - fr**2\n",
    "        print(denom)\n",
    "        if abs(denom) < 1e-6:\n",
    "            denom = 1e-6\n",
    "        dydx = (S0 - Sf(y, Q, b, n)) / denom\n",
    "        y += dydx * dx\n",
    "        x += dx\n",
    "        if y <= 0 or np.isnan(y):\n",
    "            break\n",
    "        x_vals.append(x)\n",
    "        y_vals.append(y)\n",
    "\n",
    "    return x_vals, y_vals, y_crit"
   ]
  },
  {
   "cell_type": "code",
   "execution_count": 6,
   "metadata": {},
   "outputs": [],
   "source": [
    "def plot_backwater_profile(Q, b, n, S0, dx, L):\n",
    "    x_vals, y_vals, y_crit = compute_backwater_from_weir(Q, b, n, S0, dx, L)\n",
    "    \n",
    "    plt.figure(figsize=(10, 5))\n",
    "    plt.plot(x_vals, y_vals, label=\"Backwater Profile (M1)\")\n",
    "    plt.axhline(y_crit, color='r', linestyle='--', label=\"Critical Depth\")\n",
    "    plt.title(f\"Backwater Curve Starting at Weir\\nQ = {Q} m³/s, Width = {b} m\")\n",
    "    plt.xlabel(\"Distance upstream from weir (m)\")\n",
    "    plt.ylabel(\"Water Depth (m)\")\n",
    "    plt.grid(True)\n",
    "    plt.legend()\n",
    "    plt.tight_layout()\n",
    "    plt.show()\n",
    "\n",
    "    print(f\"Critical Depth at Weir: {y_crit:.3f} m\")\n",
    "    print(f\"Water Depth at Upstream End: {y_vals[-1]:.3f} m\")"
   ]
  },
  {
   "cell_type": "code",
   "execution_count": 7,
   "metadata": {},
   "outputs": [
    {
     "data": {
      "application/vnd.jupyter.widget-view+json": {
       "model_id": "88c60fe7665d441e9b478a032653221f",
       "version_major": 2,
       "version_minor": 0
      },
      "text/plain": [
       "interactive(children=(FloatSlider(value=10.0, description='Discharge Q', max=30.0, min=1.0, step=1.0), FloatSl…"
      ]
     },
     "metadata": {},
     "output_type": "display_data"
    },
    {
     "data": {
      "text/plain": [
       "<function __main__.plot_backwater_profile(Q, b, n, S0, dx, L)>"
      ]
     },
     "execution_count": 7,
     "metadata": {},
     "output_type": "execute_result"
    }
   ],
   "source": [
    "widgets.interact(\n",
    "    plot_backwater_profile,\n",
    "    Q=widgets.FloatSlider(value=10.0, min=1, max=30, step=1, description='Discharge Q'),\n",
    "    b=widgets.FloatSlider(value=3.0, min=1, max=10, step=0.5, description='Channel Width b'),\n",
    "    n=widgets.FloatSlider(value=0.03, min=0.01, max=0.1, step=0.005, description=\"Manning's n\"),\n",
    "    S0=widgets.FloatLogSlider(value=0.001, base=10, min=-4, max=-1, step=0.1, description='Slope S₀'),\n",
    "    dx=widgets.FloatSlider(value=0.25, min=0.05, max=2.0, step=0.05, description='Step dx'),\n",
    "    L=widgets.FloatSlider(value=100.0, min=10, max=300, step=10, description='Length L')\n",
    ")"
   ]
  }
 ],
 "metadata": {
  "kernelspec": {
   "display_name": "Python 3 (ipykernel)",
   "language": "python",
   "name": "python3"
  },
  "language_info": {
   "codemirror_mode": {
    "name": "ipython",
    "version": 3
   },
   "file_extension": ".py",
   "mimetype": "text/x-python",
   "name": "python",
   "nbconvert_exporter": "python",
   "pygments_lexer": "ipython3",
   "version": "3.12.9"
  }
 },
 "nbformat": 4,
 "nbformat_minor": 4
}
